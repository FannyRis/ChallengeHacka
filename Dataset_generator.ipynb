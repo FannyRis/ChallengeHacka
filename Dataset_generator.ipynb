{
 "cells": [
  {
   "cell_type": "markdown",
   "metadata": {},
   "source": [
    "# Hackathon\n",
    "\n",
    "Some utilities"
   ]
  },
  {
   "cell_type": "markdown",
   "metadata": {},
   "source": [
    "## Import Utils"
   ]
  },
  {
   "cell_type": "code",
   "execution_count": 2,
   "metadata": {},
   "outputs": [],
   "source": [
    "import keras\n",
    "from keras.metrics import top_k_categorical_accuracy\n",
    "import h5py as h5\n",
    "import numpy as np\n",
    "import pandas as pd\n",
    "import tables\n",
    "\n",
    "PATH_DATA = '/notebooks/data/full.h5'"
   ]
  },
  {
   "cell_type": "code",
   "execution_count": 3,
   "metadata": {},
   "outputs": [],
   "source": [
    "def get_idxs(h5_path):\n",
    "    f = h5.File(h5_path)\n",
    "    return range(len(f['S2']))\n",
    "\n",
    "def shuffle_idx(sample_idxs):\n",
    "    return list(np.random.permutation(sample_idxs))\n",
    "\n",
    "def split_train_val(sample_idxs, proportion):\n",
    "    n_samples = len(sample_idxs)\n",
    "    return sample_idxs[:int((1.-proportion)*n_samples)], sample_idxs[int((1.-proportion)*n_samples):]\n",
    "\n",
    "def get_batch_count(idxs, batch_size):\n",
    "    batch_count = int(len(idxs)//batch_size)\n",
    "    remained_samples = len(idxs)%batch_size\n",
    "    if remained_samples > 0:\n",
    "        batch_count += 1\n",
    "\n",
    "    return batch_count"
   ]
  },
  {
   "cell_type": "code",
   "execution_count": 4,
   "metadata": {},
   "outputs": [],
   "source": [
    "def generator(h5_path, batch_size, idxs):\n",
    "    f = h5.File(h5_path, 'r')\n",
    "    while True : \n",
    "        idxs = shuffle_idx(idxs)\n",
    "        batch_count = get_batch_count(idxs, batch_size)\n",
    "        for b in range(batch_count):\n",
    "            batch_idx = idxs[b*batch_size]\n",
    "            X = f['S2'][batch_idx:batch_idx+batch_size, :,:,:]\n",
    "            Y = f['TOP_LANDCOVER'][batch_idx:batch_idx+batch_size, :]\n",
    "            yield np.array(X), keras.utils.np_utils.to_categorical(np.array(Y), 23)"
   ]
  },
  {
   "cell_type": "code",
   "execution_count": 7,
   "metadata": {},
   "outputs": [],
   "source": [
    "##DataSet Full\n",
    "dsetfull = h5.File(PATH_DATA)['TOP_LANDCOVER']\n",
    "labelsfull = dsetfull[0:].astype(int)\n",
    "data4Dfull = h5.File(PATH_DATA)['S2']"
   ]
  },
  {
   "cell_type": "code",
   "execution_count": 17,
   "metadata": {},
   "outputs": [
    {
     "name": "stdout",
     "output_type": "stream",
     "text": [
      "1\n",
      "2\n",
      "3\n",
      "4\n",
      "5\n",
      "10\n",
      "11\n",
      "12\n",
      "14\n",
      "17\n",
      "19\n",
      "20\n",
      "[[2.0074100e+05 2.0074400e+05 2.0074500e+05 ... 2.8970290e+06\n",
      "  2.8970380e+06 2.8970390e+06]\n",
      " [2.0070400e+05 2.0070500e+05 2.0070600e+05 ... 1.7705160e+06\n",
      "  1.7705170e+06 1.7705940e+06]\n",
      " [2.0070900e+05 2.0071700e+05 2.0071800e+05 ... 1.6208770e+06\n",
      "  1.6208780e+06 1.6208790e+06]\n",
      " ...\n",
      " [9.7218800e+05 9.7225200e+05 2.5760620e+06 ... 0.0000000e+00\n",
      "  0.0000000e+00 0.0000000e+00]\n",
      " [2.0242400e+05 2.0242500e+05 2.0248800e+05 ... 1.3103215e+07\n",
      "  1.3103216e+07 1.3103217e+07]\n",
      " [0.0000000e+00 1.0000000e+00 2.0000000e+00 ... 1.9999700e+05\n",
      "  1.9999800e+05 1.9999900e+05]]\n"
     ]
    }
   ],
   "source": [
    "classes = [1, 2, 3, 4, 5, 10, 11, 12, 14, 19, 20, 17]\n",
    "equilibre = np.zeros((len(classes), 200000))\n",
    "\n",
    "for i in range(len(classes)):\n",
    "        current = classes[i]\n",
    "        print(current)\n",
    "        \n",
    "        if current != 17:\n",
    "            equilibre[i][:] = np.where(labelsfull == current)[0][:200000]\n",
    "        else:\n",
    "             equilibre[i][:86471] = np.where(labelsfull == current)[0][:]"
   ]
  },
  {
   "cell_type": "code",
   "execution_count": 19,
   "metadata": {},
   "outputs": [
    {
     "name": "stdout",
     "output_type": "stream",
     "text": [
      "[]\n"
     ]
    }
   ],
   "source": [
    "indexs = np.flatten()\n",
    "        \n",
    "indexs = np.sort(indexs)"
   ]
  },
  {
   "cell_type": "code",
   "execution_count": null,
   "metadata": {},
   "outputs": [],
   "source": [
    "##DataSet Equilibré\n",
    "dset = h5.File(PATH_DATA)['TOP_LANDCOVER'][Equidxs,:]\n",
    "labels = dset[0:].astype(int)\n",
    "data4D = h5.File(PATH_DATA)['S2'][Equidxs,:,:,:]"
   ]
  },
  {
   "cell_type": "code",
   "execution_count": null,
   "metadata": {},
   "outputs": [],
   "source": [
    "plt.hist(labels)"
   ]
  },
  {
   "cell_type": "code",
   "execution_count": null,
   "metadata": {},
   "outputs": [],
   "source": []
  }
 ],
 "metadata": {
  "kernelspec": {
   "display_name": "Python 3",
   "language": "python",
   "name": "python3"
  },
  "language_info": {
   "codemirror_mode": {
    "name": "ipython",
    "version": 3
   },
   "file_extension": ".py",
   "mimetype": "text/x-python",
   "name": "python",
   "nbconvert_exporter": "python",
   "pygments_lexer": "ipython3",
   "version": "3.5.2"
  },
  "widgets": {
   "state": {},
   "version": "1.1.2"
  }
 },
 "nbformat": 4,
 "nbformat_minor": 2
}
