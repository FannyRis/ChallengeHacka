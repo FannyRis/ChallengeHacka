{
 "cells": [
  {
   "cell_type": "markdown",
   "metadata": {},
   "source": [
    "# Hackathon\n",
    "\n",
    "Some utilities"
   ]
  },
  {
   "cell_type": "markdown",
   "metadata": {},
   "source": [
    "## Import Utils"
   ]
  },
  {
   "cell_type": "code",
   "execution_count": 2,
   "metadata": {},
   "outputs": [],
   "source": [
    "import keras\n",
    "from keras.metrics import top_k_categorical_accuracy\n",
    "import h5py as h5\n",
    "import numpy as np\n",
    "import pandas as pd\n",
    "import tables\n",
    "\n",
    "PATH_DATA = '/notebooks/data/full.h5'"
   ]
  },
  {
   "cell_type": "code",
   "execution_count": 3,
   "metadata": {},
   "outputs": [],
   "source": [
    "def get_idxs(h5_path):\n",
    "    f = h5.File(h5_path)\n",
    "    return range(len(f['S2']))\n",
    "\n",
    "def shuffle_idx(sample_idxs):\n",
    "    return list(np.random.permutation(sample_idxs))\n",
    "\n",
    "def split_train_val(sample_idxs, proportion):\n",
    "    n_samples = len(sample_idxs)\n",
    "    return sample_idxs[:int((1.-proportion)*n_samples)], sample_idxs[int((1.-proportion)*n_samples):]\n",
    "\n",
    "def get_batch_count(idxs, batch_size):\n",
    "    batch_count = int(len(idxs)//batch_size)\n",
    "    remained_samples = len(idxs)%batch_size\n",
    "    if remained_samples > 0:\n",
    "        batch_count += 1\n",
    "\n",
    "    return batch_count"
   ]
  },
  {
   "cell_type": "code",
   "execution_count": 4,
   "metadata": {},
   "outputs": [],
   "source": [
    "def generator(h5_path, batch_size, idxs):\n",
    "    f = h5.File(h5_path, 'r')\n",
    "    while True : \n",
    "        idxs = shuffle_idx(idxs)\n",
    "        batch_count = get_batch_count(idxs, batch_size)\n",
    "        for b in range(batch_count):\n",
    "            batch_idx = idxs[b*batch_size]\n",
    "            X = f['S2'][batch_idx:batch_idx+batch_size, :,:,:]\n",
    "            Y = f['TOP_LANDCOVER'][batch_idx:batch_idx+batch_size, :]\n",
    "            yield np.array(X), keras.utils.np_utils.to_categorical(np.array(Y), 23)"
   ]
  },
  {
   "cell_type": "code",
   "execution_count": 37,
   "metadata": {},
   "outputs": [
    {
     "name": "stdout",
     "output_type": "stream",
     "text": [
      "53606\n"
     ]
    }
   ],
   "source": [
    "idxs = get_idxs(PATH_DATA)\n",
    "shuffled_idxs = shuffle_idx(idxs)\n",
    "train_idxs, val_idxs = split_train_val(shuffled_idxs, 0.2)\n",
    "\n",
    "print(len(idxs))"
   ]
  },
  {
   "cell_type": "code",
   "execution_count": 5,
   "metadata": {},
   "outputs": [],
   "source": [
    "label = h5.File(PATH_DATA)['TOP_LANDCOVER']\n",
    "images = h5.File(PATH_DATA)['S2']"
   ]
  },
  {
   "cell_type": "code",
   "execution_count": null,
   "metadata": {},
   "outputs": [],
   "source": [
    "counts = np.zeros(23)\n",
    "lbl = np.zeros(len(label))\n",
    "\n",
    "for idx, value in enumerate(label):\n",
    "    counts[int(value)] += 1\n",
    "    lbl[idx] = value"
   ]
  },
  {
   "cell_type": "code",
   "execution_count": null,
   "metadata": {},
   "outputs": [],
   "source": [
    "import matplotlib.pyplot as plt\n",
    "\n",
    "plt.bar(np.arange(len(counts)), counts)\n",
    "plt.show()"
   ]
  },
  {
   "cell_type": "code",
   "execution_count": null,
   "metadata": {},
   "outputs": [],
   "source": [
    "##DataSet Full\n",
    "dsetfull = h5.File(PATH_DATA)['TOP_LANDCOVER']\n",
    "labelsfull = dset[0:].astype(int)\n",
    "data4Dfull = h5.File(PATH_DATA)['S2']"
   ]
  },
  {
   "cell_type": "code",
   "execution_count": null,
   "metadata": {},
   "outputs": [],
   "source": [
    "##DataSet eigthies\n",
    "dset80 = h5.File(PATH_80s)['TOP_LANDCOVER']\n",
    "labels80 = dset80[0:].astype(int)\n",
    "data4D80 = h5.File(PATH_80s)['S2']"
   ]
  },
  {
   "cell_type": "code",
   "execution_count": null,
   "metadata": {},
   "outputs": [],
   "source": [
    "##PATH Predict\n",
    "data4Dpredict = h5.File(PATH_PREDICT_WITHOUT_GT)['S2']"
   ]
  },
  {
   "cell_type": "code",
   "execution_count": null,
   "metadata": {},
   "outputs": [],
   "source": [
    "##Traitement des labels : 23 -> 14\n",
    "unique, counts = np.unique(labelsfull, return_counts=True)\n",
    "unique = pd.DataFrame(unique)\n",
    "counts = pd.DataFrame(counts)\n",
    "prop = pd.DataFrame(counts/18698240*100)\n",
    "\n",
    "labelsCountsfull = pd.concat([unique, counts,prop], axis=1, join_axes=[unique.index])\n",
    "labelsCountsfull.columns = ['label','count','prop']\n",
    "labelsCountsfull\n",
    "minProp = 0.02\n",
    "labelsCountsFiltered = labelsCountsfull[labelsCountsfull['prop']>minProp]\n",
    "labelsCountsFiltered = labelsCountsFiltered.reset_index()\n"
   ]
  },
  {
   "cell_type": "code",
   "execution_count": null,
   "metadata": {},
   "outputs": [],
   "source": [
    "equilibre = np.zeros((14,3830))\n",
    "\n",
    "for i in range(len(labelsCountsFiltered)):\n",
    "    current = labelsCountsFiltered.iloc[i,1]\n",
    "    print(current)\n",
    "    equilibre[i][0] = current\n",
    "    equilibre[i][1:] = np.where(labels == current)[0][:3829]\n"
   ]
  },
  {
   "cell_type": "code",
   "execution_count": null,
   "metadata": {},
   "outputs": [],
   "source": [
    "Equidxs = np.zeros(14*3829)\n",
    "for i in range(14):\n",
    "    for j in range(3829):\n",
    "        Equidxs[i*3829+j] = equilibre[i,j+1]\n",
    "        \n",
    "Equidxs = np.sort(Equidxs)\n",
    "Equidxs"
   ]
  },
  {
   "cell_type": "code",
   "execution_count": null,
   "metadata": {},
   "outputs": [],
   "source": [
    "##DataSet Equilibré\n",
    "dset = h5.File(PATH_DATA)['TOP_LANDCOVER'][Equidxs,:]\n",
    "labels = dset[0:].astype(int)\n",
    "data4D = h5.File(PATH_DATA)['S2'][Equidxs,:,:,:]"
   ]
  },
  {
   "cell_type": "code",
   "execution_count": null,
   "metadata": {},
   "outputs": [],
   "source": [
    "plt.hist(labels)"
   ]
  },
  {
   "cell_type": "code",
   "execution_count": null,
   "metadata": {},
   "outputs": [],
   "source": []
  }
 ],
 "metadata": {
  "kernelspec": {
   "display_name": "Python 3",
   "language": "python",
   "name": "python3"
  },
  "language_info": {
   "codemirror_mode": {
    "name": "ipython",
    "version": 3
   },
   "file_extension": ".py",
   "mimetype": "text/x-python",
   "name": "python",
   "nbconvert_exporter": "python",
   "pygments_lexer": "ipython3",
   "version": "3.5.2"
  },
  "widgets": {
   "state": {},
   "version": "1.1.2"
  }
 },
 "nbformat": 4,
 "nbformat_minor": 2
}
