{
 "cells": [
  {
   "cell_type": "markdown",
   "metadata": {},
   "source": [
    "# Hackathon\n",
    "\n",
    "Some utilities"
   ]
  },
  {
   "cell_type": "markdown",
   "metadata": {},
   "source": [
    "## Import Utils"
   ]
  },
  {
   "cell_type": "code",
   "execution_count": 3,
   "metadata": {},
   "outputs": [],
   "source": [
    "import keras\n",
    "from keras.metrics import top_k_categorical_accuracy\n",
    "import h5py as h5\n",
    "import numpy as np\n",
    "import pandas as pd\n",
    "import tables\n",
    "\n",
    "PATH_DATA = '/notebooks/data/full.h5'\n",
    "OUT_PATH = '/notebooks/data/balanced_full.h5'"
   ]
  },
  {
   "cell_type": "code",
   "execution_count": 19,
   "metadata": {},
   "outputs": [],
   "source": [
    "classes = [1, 2, 3, 4, 5, 10, 11, 12, 14, 19, 20, 17]\n",
    "\n",
    "nb_per_class = np.zeros(20)"
   ]
  },
  {
   "cell_type": "code",
   "execution_count": 4,
   "metadata": {},
   "outputs": [],
   "source": [
    "image_batch = np.zeros((100000, 16, 16, 4))"
   ]
  },
  {
   "cell_type": "code",
   "execution_count": 23,
   "metadata": {},
   "outputs": [],
   "source": [
    "##DataSet Full\n",
    "top_landcover = h5.File(PATH_DATA)['TOP_LANDCOVER']\n",
    "top_landcover_batch = top_landcover[300000:400000].astype(int)\n",
    "image_batch = h5.File(PATH_DATA)['S2'][300000:400000, :, :, :]"
   ]
  },
  {
   "cell_type": "code",
   "execution_count": 24,
   "metadata": {},
   "outputs": [
    {
     "name": "stdout",
     "output_type": "stream",
     "text": [
      "[ 1  2  3  4  5 10 11 12 14 20]\n",
      "[19804 36816 26923   117   437     5    34 15652    13   199]\n"
     ]
    }
   ],
   "source": [
    "##Traitement des labels : 23 -> 14\n",
    "unique, counts = np.unique(top_landcover_batch, return_counts=True)\n",
    "print(unique)\n",
    "print(counts)"
   ]
  },
  {
   "cell_type": "code",
   "execution_count": 20,
   "metadata": {
    "scrolled": true
   },
   "outputs": [
    {
     "name": "stdout",
     "output_type": "stream",
     "text": [
      "[3.47320e+04 3.93820e+04 1.89140e+04 1.73000e+02 7.74000e+02 0.00000e+00\n",
      " 0.00000e+00 0.00000e+00 0.00000e+00 8.00000e+00 2.00000e+01 5.27300e+03\n",
      " 0.00000e+00 1.00000e+01 0.00000e+00 0.00000e+00 0.00000e+00 0.00000e+00\n",
      " 4.00000e+00 1.00704e+05]\n"
     ]
    }
   ],
   "source": [
    "nb_per_class[19] = 100000\n",
    "nb_per_class[0] += 34732\n",
    "nb_per_class[1] += 39382\n",
    "nb_per_class[2] += 18914\n",
    "nb_per_class[3] += 173\n",
    "nb_per_class[4] += 774\n",
    "nb_per_class[9] += 8\n",
    "nb_per_class[10] += 20\n",
    "nb_per_class[11] += 5273\n",
    "nb_per_class[13] += 10\n",
    "nb_per_class[18] += 4\n",
    "nb_per_class[19] += 704\n",
    "\n"
   ]
  },
  {
   "cell_type": "code",
   "execution_count": 21,
   "metadata": {},
   "outputs": [
    {
     "name": "stdout",
     "output_type": "stream",
     "text": [
      "[ 34732  39382  18914    173    774      0      0      0      0      8\n",
      "     20   5273      0     10      0      0      0      0      4 100704]\n"
     ]
    }
   ],
   "source": [
    "print (nb_per_class.astype(int))"
   ]
  },
  {
   "cell_type": "code",
   "execution_count": 28,
   "metadata": {},
   "outputs": [
    {
     "name": "stdout",
     "output_type": "stream",
     "text": [
      "1\n",
      "2\n",
      "3\n",
      "4\n",
      "5\n",
      "10\n",
      "11\n",
      "12\n",
      "14\n",
      "19\n",
      "20\n",
      "17\n"
     ]
    }
   ],
   "source": [
    "classes = [1, 2, 3, 4, 5, 10, 11, 12, 14, 19, 20, 17]\n",
    "indexes = np.zeros((len(classes), 200000))\n",
    "\n",
    "for i in range(len(classes)):\n",
    "        current_class = classes[i]       \n",
    "        if current_class != 17:\n",
    "            indexes[i][:] = np.where(top_landcover == current_class)[0][:200000]\n",
    "        else:\n",
    "             indexes[i][:86471] = np.where(top_landcover == current_class)[0][:]\n",
    "                \n",
    "indexs = np.sort(indexes.flatten()[:2286471])  "
   ]
  },
  {
   "cell_type": "code",
   "execution_count": null,
   "metadata": {},
   "outputs": [],
   "source": [
    "## DataSet Equilibré\n",
    "balanced_top_lancover = h5.File(PATH_DATA)['TOP_LANDCOVER'][indexs,:]\n",
    "balanced_images = h5.File(PATH_DATA)['S2'][indexs,:,:,:]"
   ]
  },
  {
   "cell_type": "code",
   "execution_count": null,
   "metadata": {},
   "outputs": [],
   "source": [
    "import os \n",
    "\n",
    "def build_h5_file(top_lancover, images, h5_output_path):\n",
    "    if os.path.exists(h5_output_path):\n",
    "        os.remove(h5_output_path)\n",
    "    f = h5.File(h5_output_path, 'w')\n",
    "    top_landcover_submit = f.create_dataset(\"TOP_LANDCOVER\", (len(top_lancover), 1), maxshape=(None, 1))\n",
    "    top_landcover_submit[:, 0] = top_lancover[:,0]\n",
    "    s2_submit = f.create_dataset(\"S2\", (len(images), 16,16,4), maxshape=(None, 16,16,4))\n",
    "    s2_submit[:,:,:,:] = images\n",
    "    f.close()\n",
    "    \n",
    "    return 1\n",
    "\n",
    "build_h5_file(top_landcover_batch, balanced_images, OUT_PATH)"
   ]
  },
  {
   "cell_type": "code",
   "execution_count": 22,
   "metadata": {},
   "outputs": [],
   "source": [
    "import pickle\n",
    "\n",
    "f_batch = open(\"/notebooks/data/landcover_batch2\", 'wb')\n",
    "pickle.dump(top_landcover_batch, f_batch)\n",
    "f_batch.close()\n",
    "\n",
    "f_batch_images = open(\"/notebooks/data/images_batch2\", 'wb')\n",
    "pickle.dump(image_batch, f_batch_images)\n",
    "f_batch_images.close()"
   ]
  },
  {
   "cell_type": "code",
   "execution_count": null,
   "metadata": {},
   "outputs": [],
   "source": []
  }
 ],
 "metadata": {
  "kernelspec": {
   "display_name": "Python 3",
   "language": "python",
   "name": "python3"
  },
  "language_info": {
   "codemirror_mode": {
    "name": "ipython",
    "version": 3
   },
   "file_extension": ".py",
   "mimetype": "text/x-python",
   "name": "python",
   "nbconvert_exporter": "python",
   "pygments_lexer": "ipython3",
   "version": "3.5.2"
  },
  "widgets": {
   "state": {},
   "version": "1.1.2"
  }
 },
 "nbformat": 4,
 "nbformat_minor": 2
}
