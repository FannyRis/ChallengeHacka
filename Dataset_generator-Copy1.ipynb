{
 "cells": [
  {
   "cell_type": "markdown",
   "metadata": {},
   "source": [
    "# Hackathon\n",
    "\n",
    "Some utilities"
   ]
  },
  {
   "cell_type": "markdown",
   "metadata": {},
   "source": [
    "## Import Utils"
   ]
  },
  {
   "cell_type": "code",
   "execution_count": 38,
   "metadata": {},
   "outputs": [],
   "source": [
    "import keras\n",
    "from keras.metrics import top_k_categorical_accuracy\n",
    "import h5py as h5\n",
    "import numpy as np\n",
    "import pandas as pd\n",
    "import tables\n",
    "\n",
    "PATH_DATA = '/notebooks/data/half.h5'\n",
    "OUT_PATH = '/notebooks/data/balanced.h5'"
   ]
  },
  {
   "cell_type": "code",
   "execution_count": 41,
   "metadata": {},
   "outputs": [],
   "source": [
    "##DataSet Full\n",
    "top_landcover = h5.File(PATH_DATA)['TOP_LANDCOVER']\n",
    "top_landcover = top_landcover[0:].astype(int)\n",
    "images = h5.File(PATH_DATA)['S2']"
   ]
  },
  {
   "cell_type": "code",
   "execution_count": 42,
   "metadata": {},
   "outputs": [
    {
     "data": {
      "text/plain": [
       "86325"
      ]
     },
     "execution_count": 42,
     "metadata": {},
     "output_type": "execute_result"
    }
   ],
   "source": [
    "len(np.where(top_landcover == 17)[0][:])"
   ]
  },
  {
   "cell_type": "code",
   "execution_count": 44,
   "metadata": {},
   "outputs": [
    {
     "name": "stdout",
     "output_type": "stream",
     "text": [
      "     0\n",
      "0    1\n",
      "1    2\n",
      "2    3\n",
      "3    4\n",
      "4    5\n",
      "5    6\n",
      "6   10\n",
      "7   11\n",
      "8   12\n",
      "9   13\n",
      "10  14\n",
      "11  15\n",
      "12  17\n",
      "13  18\n",
      "14  19\n",
      "15  20\n",
      "          0\n",
      "0   2583182\n",
      "1    747083\n",
      "2   1549478\n",
      "3    216284\n",
      "4   1998372\n",
      "5        56\n",
      "6     46350\n",
      "7      9405\n",
      "8   1745347\n",
      "9        24\n",
      "10    13603\n",
      "11      152\n",
      "12    86325\n",
      "13     3329\n",
      "14     9695\n",
      "15   340435\n"
     ]
    }
   ],
   "source": [
    "##Traitement des labels : 23 -> 14\n",
    "unique, counts = np.unique(top_landcover, return_counts=True)\n",
    "unique = pd.DataFrame(unique)\n",
    "counts = pd.DataFrame(counts)\n",
    "prop = pd.DataFrame(counts/18698240*100)\n",
    "\n",
    "print(unique)\n",
    "print(counts)"
   ]
  },
  {
   "cell_type": "code",
   "execution_count": 51,
   "metadata": {},
   "outputs": [
    {
     "name": "stdout",
     "output_type": "stream",
     "text": [
      "1\n",
      "2\n",
      "3\n",
      "4\n",
      "5\n",
      "10\n",
      "11\n",
      "12\n",
      "14\n",
      "19\n",
      "20\n",
      "17\n",
      "865377\n"
     ]
    }
   ],
   "source": [
    "classes = [1, 2, 3, 4, 5, 10, 11, 12, 14, 19, 20, 17]\n",
    "indexes = np.zeros((len(classes), 100000))\n",
    "\n",
    "for i in range(len(classes)):\n",
    "        current_class = classes[i]  \n",
    "        print(current_class)\n",
    "        if current_class == 17:\n",
    "            indexes[i][:86325] = np.where(top_landcover == current_class)[0][:]\n",
    "        elif current_class == 10:\n",
    "            indexes[i][:46350] = np.where(top_landcover == current_class)[0][:]\n",
    "        elif current_class == 11:\n",
    "            indexes[i][:9405] = np.where(top_landcover == current_class)[0][:]\n",
    "        elif current_class == 14:\n",
    "            indexes[i][:13603] = np.where(top_landcover == current_class)[0][:]\n",
    "        elif current_class == 19:\n",
    "            indexes[i][:9695] = np.where(top_landcover == current_class)[0][:]\n",
    "        else:\n",
    "            indexes[i][:] = np.where(top_landcover == current_class)[0][:100000]\n",
    "\n",
    "indexes = indexes.flatten()\n",
    "ind = np.where(indexes != 0 )\n",
    "                \n",
    "indexs = np.sort(indexes[ind])  \n",
    "print(np.size(indexs))"
   ]
  },
  {
   "cell_type": "code",
   "execution_count": 52,
   "metadata": {},
   "outputs": [],
   "source": [
    "## DataSet Equilibré\n",
    "balanced_top_lancover = top_landcover[indexs.astype(int)]"
   ]
  },
  {
   "cell_type": "code",
   "execution_count": null,
   "metadata": {},
   "outputs": [],
   "source": [
    "balanced_images = images[indexs.astype(int), :, :, :]"
   ]
  },
  {
   "cell_type": "code",
   "execution_count": null,
   "metadata": {},
   "outputs": [],
   "source": [
    "import os \n",
    "\n",
    "def build_h5_file(top_lancover, images, h5_output_path):\n",
    "    if os.path.exists(h5_output_path):\n",
    "        os.remove(h5_output_path)\n",
    "    f = h5.File(h5_output_path, 'w')\n",
    "    top_landcover_submit = f.create_dataset(\"TOP_LANDCOVER\", (len(top_lancover), 1), maxshape=(None, 1))\n",
    "    top_landcover_submit[:, 0] = top_lancover[:,0]\n",
    "    s2_submit = f.create_dataset(\"S2\", (len(images), 16,16,4), maxshape=(None, 16,16,4))\n",
    "    s2_submit[:,:,:,:] = images\n",
    "    f.close()\n",
    "    \n",
    "    return 1\n",
    "\n",
    "build_h5_file(balanced_top_lancover, balanced_images, OUT_PATH)"
   ]
  },
  {
   "cell_type": "code",
   "execution_count": null,
   "metadata": {},
   "outputs": [],
   "source": []
  }
 ],
 "metadata": {
  "kernelspec": {
   "display_name": "Python 3",
   "language": "python",
   "name": "python3"
  },
  "widgets": {
   "state": {},
   "version": "1.1.2"
  }
 },
 "nbformat": 4,
 "nbformat_minor": 2
}
