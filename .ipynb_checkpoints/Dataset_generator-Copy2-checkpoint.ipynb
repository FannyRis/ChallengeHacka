{
 "cells": [
  {
   "cell_type": "markdown",
   "metadata": {},
   "source": [
    "# Hackathon\n",
    "\n",
    "Some utilities"
   ]
  },
  {
   "cell_type": "markdown",
   "metadata": {},
   "source": [
    "## Import Utils"
   ]
  },
  {
   "cell_type": "code",
   "execution_count": 25,
   "metadata": {},
   "outputs": [],
   "source": [
    "import keras\n",
    "from keras.metrics import top_k_categorical_accuracy\n",
    "import h5py as h5\n",
    "import numpy as np\n",
    "import pandas as pd\n",
    "import tables\n",
    "import multiprocessing import Pool\n",
    "\n",
    "PATH_DATA = '/notebooks/data/full.h5'\n",
    "OUT_PATH = '/notebooks/data/balanced.h5'"
   ]
  },
  {
   "cell_type": "code",
   "execution_count": 26,
   "metadata": {},
   "outputs": [],
   "source": [
    "##DataSet Full\n",
    "top_landcover = h5.File(PATH_DATA)['TOP_LANDCOVER']\n",
    "top_landcover = top_landcover[0:].astype(int)\n",
    "images = h5.File(PATH_DATA)['S2']"
   ]
  },
  {
   "cell_type": "code",
   "execution_count": null,
   "metadata": {},
   "outputs": [],
   "source": [
    "def has_nan(array):\n",
    "    array_flat = array.flatten()\n",
    "    isnan = np.isnan(array_flat)\n",
    "    hasnan = false\n",
    "    for i in range(array_flat):\n",
    "        if not array_flat[i]:\n",
    "            hasnan = false\n",
    "    return hasnan"
   ]
  },
  {
   "cell_type": "code",
   "execution_count": 28,
   "metadata": {},
   "outputs": [
    {
     "name": "stdout",
     "output_type": "stream",
     "text": [
      "1\n",
      "2\n",
      "3\n",
      "4\n",
      "5\n",
      "10\n",
      "11\n",
      "12\n",
      "14\n",
      "19\n",
      "20\n",
      "17\n"
     ]
    }
   ],
   "source": [
    "classes = [1, 2, 3, 4, 5, 10, 11, 12, 14, 19, 20, 17]\n",
    "indexes = np.zeros((len(classes), 200000))\n",
    "\n",
    "for i in range(len(classes)):\n",
    "        current_class = classes[i]       \n",
    "        if current_class != 17:\n",
    "            indexes[i][:] = np.where(top_landcover == current_class)[0][:200000]\n",
    "        else:\n",
    "             indexes[i][:86471] = np.where(top_landcover == current_class)[0][:]\n",
    "                \n",
    "indexs = np.sort(indexes.flatten()[:2286471])  "
   ]
  },
  {
   "cell_type": "code",
   "execution_count": null,
   "metadata": {},
   "outputs": [],
   "source": [
    "## DataSet Equilibré\n",
    "balanced_top_lancover = h5.File(PATH_DATA)['TOP_LANDCOVER'][indexs,:]\n",
    "balanced_images = h5.File(PATH_DATA)['S2'][indexs,:,:,:]"
   ]
  },
  {
   "cell_type": "code",
   "execution_count": null,
   "metadata": {},
   "outputs": [],
   "source": [
    "import os \n",
    "\n",
    "def build_h5_file(top_lancover, images, h5_output_path):\n",
    "    if os.path.exists(h5_output_path):\n",
    "        os.remove(h5_output_path)\n",
    "    f = h5.File(h5_output_path, 'w')\n",
    "    top_landcover_submit = f.create_dataset(\"TOP_LANDCOVER\", (len(top_lancover), 1), maxshape=(None, 1))\n",
    "    top_landcover_submit[:, 0] = top_lancover[:,0]\n",
    "    s2_submit = f.create_dataset(\"S2\", (len(images), 16,16,4), maxshape=(None, 16,16,4))\n",
    "    s2_submit[:,:,:,:] = images\n",
    "    f.close()\n",
    "    \n",
    "    return 1\n",
    "\n",
    "build_h5_file(balanced_top_lancover, balanced_images, OUT_PATH)"
   ]
  }
 ],
 "metadata": {
  "kernelspec": {
   "display_name": "Python 3",
   "language": "python",
   "name": "python3"
  },
  "language_info": {
   "codemirror_mode": {
    "name": "ipython",
    "version": 3
   },
   "file_extension": ".py",
   "mimetype": "text/x-python",
   "name": "python",
   "nbconvert_exporter": "python",
   "pygments_lexer": "ipython3",
   "version": "3.5.2"
  },
  "widgets": {
   "state": {},
   "version": "1.1.2"
  }
 },
 "nbformat": 4,
 "nbformat_minor": 2
}
