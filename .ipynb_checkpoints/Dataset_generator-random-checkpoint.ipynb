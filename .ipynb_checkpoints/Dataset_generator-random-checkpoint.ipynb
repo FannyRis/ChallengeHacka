{
 "cells": [
  {
   "cell_type": "markdown",
   "metadata": {},
   "source": [
    "# Hackathon\n",
    "\n",
    "Some utilities"
   ]
  },
  {
   "cell_type": "markdown",
   "metadata": {},
   "source": [
    "## Import Utils"
   ]
  },
  {
   "cell_type": "code",
   "execution_count": 8,
   "metadata": {},
   "outputs": [],
   "source": [
    "import keras\n",
    "from keras.metrics import top_k_categorical_accuracy\n",
    "import h5py as h5\n",
    "import numpy as np\n",
    "import pandas as pd\n",
    "import tables\n",
    "import matplotlib.pyplot as plt\n",
    "\n",
    "PATH_DATA = '/notebooks/data/full.h5'\n",
    "OUT_PATH = '/notebooks/data/full_7classes.h5'"
   ]
  },
  {
   "cell_type": "code",
   "execution_count": 4,
   "metadata": {},
   "outputs": [
    {
     "name": "stdout",
     "output_type": "stream",
     "text": [
      "187\n"
     ]
    }
   ],
   "source": [
    "batch_size = 100000\n",
    "nb_samples = 18698240\n",
    "batch_count = int(nb_samples/batch_size) + 1\n",
    "\n",
    "print(batch_count)\n",
    "\n",
    "max_per_class = 5000000\n",
    "\n",
    "nb_per_class = dict()\n",
    "nb_per_class[1] = 0\n",
    "nb_per_class[2] = 0\n",
    "nb_per_class[3] = 0\n",
    "nb_per_class[5] = 0\n",
    "nb_per_class[10] = 0\n",
    "nb_per_class[12] = 0\n",
    "nb_per_class[19] = 0"
   ]
  },
  {
   "cell_type": "code",
   "execution_count": 6,
   "metadata": {},
   "outputs": [],
   "source": [
    "label = h5.File(PATH_DATA)['TOP_LANDCOVER']\n",
    "images = h5.File(PATH_DATA)['S2']"
   ]
  },
  {
   "cell_type": "code",
   "execution_count": 15,
   "metadata": {},
   "outputs": [
    {
     "name": "stdout",
     "output_type": "stream",
     "text": [
      "[ 1.  2.  3.  4.  5.  6.  9. 10. 11. 12. 13. 14. 15. 17. 18. 19. 20. 21.]\n",
      "[3827110 1250253 2315736  776966 2167443     633    3709 1112499  765705\n",
      " 4054392    1281  634142    3847   86471    3829 1154414  538220    1590]\n"
     ]
    },
    {
     "data": {
      "image/png": "[encoded data removed]",
      "text/plain": [
       "<matplotlib.figure.Figure at 0x7f8c3ff2b3c8>"
      ]
     },
     "metadata": {},
     "output_type": "display_data"
    }
   ],
   "source": [
    "unique, counts = np.unique(label, return_counts=True)\n",
    "print(unique)\n",
    "print(counts)\n",
    "\n",
    "plt.bar(unique, counts)\n",
    "\n",
    "max_per_class = dict()\n",
    "max_per_class[1] = int(counts[0]/10)\n",
    "max_per_class[2] = int(counts[1]/10)\n",
    "max_per_class[3] = int(counts[2]/10)\n",
    "max_per_class[5] = int(counts[4]/10)\n",
    "max_per_class[10] = int(counts[7]/10)\n",
    "max_per_class[12] = int(counts[9]/10)\n",
    "max_per_class[19] = int(counts[15]/10)"
   ]
  },
  {
   "cell_type": "code",
   "execution_count": 5,
   "metadata": {},
   "outputs": [
    {
     "name": "stdout",
     "output_type": "stream",
     "text": [
      "b : 0\n",
      "{19: 0, 1: 0, 2: 0, 3: 0, 5: 0, 10: 0, 12: 0}\n",
      "b : 1\n",
      "{19: 0, 1: 0, 2: 0, 3: 0, 5: 0, 10: 0, 12: 0}\n",
      "b : 2\n",
      "{19: 0, 1: 0, 2: 0, 3: 0, 5: 0, 10: 0, 12: 0}\n",
      "key : 19\n",
      "key : 1\n",
      "key : 2\n",
      "key : 3\n",
      "key : 5\n",
      "key : 10\n",
      "key : 12\n",
      "b : 3\n",
      "{19: 4, 1: 34732, 2: 39381, 3: 18914, 5: 774, 10: 8, 12: 5273}\n",
      "key : 1\n",
      "key : 2\n",
      "key : 3\n",
      "key : 5\n",
      "key : 10\n",
      "key : 12\n",
      "b : 4\n",
      "{19: 4, 1: 54536, 2: 76197, 3: 45837, 5: 1211, 10: 13, 12: 20924}\n",
      "key : 19\n",
      "key : 1\n",
      "key : 2\n",
      "key : 3\n",
      "key : 5\n",
      "key : 10\n",
      "key : 12\n",
      "b : 5\n",
      "{19: 23, 1: 64401, 2: 106654, 3: 72289, 5: 1483, 10: 23, 12: 53441}\n"
     ]
    },
    {
     "ename": "KeyboardInterrupt",
     "evalue": "",
     "output_type": "error",
     "traceback": [
      "\u001b[0;31m---------------------------------------------------------------------------\u001b[0m",
      "\u001b[0;31mKeyboardInterrupt\u001b[0m                         Traceback (most recent call last)",
      "\u001b[0;32m<ipython-input-5-f4814a657c00>\u001b[0m in \u001b[0;36m<module>\u001b[0;34m()\u001b[0m\n\u001b[1;32m     14\u001b[0m     \u001b[0mtop_landcover\u001b[0m \u001b[0;34m=\u001b[0m \u001b[0mh5\u001b[0m\u001b[0;34m.\u001b[0m\u001b[0mFile\u001b[0m\u001b[0;34m(\u001b[0m\u001b[0mPATH_DATA\u001b[0m\u001b[0;34m)\u001b[0m\u001b[0;34m[\u001b[0m\u001b[0;34m'TOP_LANDCOVER'\u001b[0m\u001b[0;34m]\u001b[0m\u001b[0;34m[\u001b[0m\u001b[0mb\u001b[0m\u001b[0;34m*\u001b[0m\u001b[0mbatch_size\u001b[0m\u001b[0;34m:\u001b[0m\u001b[0;34m(\u001b[0m\u001b[0mb\u001b[0m\u001b[0;34m+\u001b[0m\u001b[0;36m1\u001b[0m\u001b[0;34m)\u001b[0m\u001b[0;34m*\u001b[0m\u001b[0mbatch_size\u001b[0m \u001b[0;34m-\u001b[0m\u001b[0;36m1\u001b[0m\u001b[0;34m]\u001b[0m\u001b[0;34m\u001b[0m\u001b[0m\n\u001b[1;32m     15\u001b[0m     \u001b[0mtop_landcover\u001b[0m \u001b[0;34m=\u001b[0m \u001b[0mtop_landcover\u001b[0m\u001b[0;34m[\u001b[0m\u001b[0;36m0\u001b[0m\u001b[0;34m:\u001b[0m\u001b[0;34m]\u001b[0m\u001b[0;34m.\u001b[0m\u001b[0mastype\u001b[0m\u001b[0;34m(\u001b[0m\u001b[0mint\u001b[0m\u001b[0;34m)\u001b[0m\u001b[0;34m\u001b[0m\u001b[0m\n\u001b[0;32m---> 16\u001b[0;31m     \u001b[0mimages\u001b[0m \u001b[0;34m=\u001b[0m \u001b[0mh5\u001b[0m\u001b[0;34m.\u001b[0m\u001b[0mFile\u001b[0m\u001b[0;34m(\u001b[0m\u001b[0mPATH_DATA\u001b[0m\u001b[0;34m)\u001b[0m\u001b[0;34m[\u001b[0m\u001b[0;34m'S2'\u001b[0m\u001b[0;34m]\u001b[0m\u001b[0;34m[\u001b[0m\u001b[0mb\u001b[0m\u001b[0;34m*\u001b[0m\u001b[0mbatch_size\u001b[0m\u001b[0;34m:\u001b[0m\u001b[0;34m(\u001b[0m\u001b[0mb\u001b[0m\u001b[0;34m+\u001b[0m\u001b[0;36m1\u001b[0m\u001b[0;34m)\u001b[0m\u001b[0;34m*\u001b[0m\u001b[0mbatch_size\u001b[0m \u001b[0;34m-\u001b[0m\u001b[0;36m1\u001b[0m\u001b[0;34m,\u001b[0m \u001b[0;34m:\u001b[0m\u001b[0;34m,\u001b[0m \u001b[0;34m:\u001b[0m\u001b[0;34m,\u001b[0m \u001b[0;34m:\u001b[0m\u001b[0;34m]\u001b[0m\u001b[0;34m\u001b[0m\u001b[0m\n\u001b[0m\u001b[1;32m     17\u001b[0m \u001b[0;34m\u001b[0m\u001b[0m\n\u001b[1;32m     18\u001b[0m     \u001b[0munique\u001b[0m\u001b[0;34m,\u001b[0m \u001b[0mcounts\u001b[0m \u001b[0;34m=\u001b[0m \u001b[0mnp\u001b[0m\u001b[0;34m.\u001b[0m\u001b[0munique\u001b[0m\u001b[0;34m(\u001b[0m\u001b[0mtop_landcover\u001b[0m\u001b[0;34m,\u001b[0m \u001b[0mreturn_counts\u001b[0m\u001b[0;34m=\u001b[0m\u001b[0;32mTrue\u001b[0m\u001b[0;34m)\u001b[0m\u001b[0;34m\u001b[0m\u001b[0m\n",
      "\u001b[0;32mh5py/_objects.pyx\u001b[0m in \u001b[0;36mh5py._objects.with_phil.wrapper\u001b[0;34m()\u001b[0m\n",
      "\u001b[0;32mh5py/_objects.pyx\u001b[0m in \u001b[0;36mh5py._objects.with_phil.wrapper\u001b[0;34m()\u001b[0m\n",
      "\u001b[0;32m/usr/local/lib/python3.5/dist-packages/h5py/_hl/dataset.py\u001b[0m in \u001b[0;36m__getitem__\u001b[0;34m(self, args)\u001b[0m\n\u001b[1;32m    494\u001b[0m         \u001b[0mmspace\u001b[0m \u001b[0;34m=\u001b[0m \u001b[0mh5s\u001b[0m\u001b[0;34m.\u001b[0m\u001b[0mcreate_simple\u001b[0m\u001b[0;34m(\u001b[0m\u001b[0mmshape\u001b[0m\u001b[0;34m)\u001b[0m\u001b[0;34m\u001b[0m\u001b[0m\n\u001b[1;32m    495\u001b[0m         \u001b[0mfspace\u001b[0m \u001b[0;34m=\u001b[0m \u001b[0mselection\u001b[0m\u001b[0;34m.\u001b[0m\u001b[0mid\u001b[0m\u001b[0;34m\u001b[0m\u001b[0m\n\u001b[0;32m--> 496\u001b[0;31m         \u001b[0mself\u001b[0m\u001b[0;34m.\u001b[0m\u001b[0mid\u001b[0m\u001b[0;34m.\u001b[0m\u001b[0mread\u001b[0m\u001b[0;34m(\u001b[0m\u001b[0mmspace\u001b[0m\u001b[0;34m,\u001b[0m \u001b[0mfspace\u001b[0m\u001b[0;34m,\u001b[0m \u001b[0marr\u001b[0m\u001b[0;34m,\u001b[0m \u001b[0mmtype\u001b[0m\u001b[0;34m,\u001b[0m \u001b[0mdxpl\u001b[0m\u001b[0;34m=\u001b[0m\u001b[0mself\u001b[0m\u001b[0;34m.\u001b[0m\u001b[0m_dxpl\u001b[0m\u001b[0;34m)\u001b[0m\u001b[0;34m\u001b[0m\u001b[0m\n\u001b[0m\u001b[1;32m    497\u001b[0m \u001b[0;34m\u001b[0m\u001b[0m\n\u001b[1;32m    498\u001b[0m         \u001b[0;31m# Patch up the output for NumPy\u001b[0m\u001b[0;34m\u001b[0m\u001b[0;34m\u001b[0m\u001b[0m\n",
      "\u001b[0;31mKeyboardInterrupt\u001b[0m: "
     ]
    }
   ],
   "source": [
    "import os\n",
    "\n",
    "if os.path.exists(OUT_PATH):\n",
    "        os.remove(OUT_PATH)\n",
    "        \n",
    "f = h5.File(OUT_PATH, 'w')\n",
    "top_landcover_submit = f.create_dataset(\"TOP_LANDCOVER\", [0, 1], maxshape=(None, 1))\n",
    "s2_submit = f.create_dataset(\"S2\", [0, 16,16,4], maxshape=(None, 16,16,4))\n",
    "\n",
    "for b in range(batch_count):\n",
    "    \n",
    "    while(max_per_class != nb_per_class):\n",
    "        print('b : ' + str(b))\n",
    "        print(nb_per_class)\n",
    "        print(max_per_class)\n",
    "        top_landcover = h5.File(PATH_DATA)['TOP_LANDCOVER'][b*batch_size:(b+1)*batch_size -1]\n",
    "        top_landcover = top_landcover[0:].astype(int)\n",
    "        images = h5.File(PATH_DATA)['S2'][b*batch_size:(b+1)*batch_size -1, :, :, :]\n",
    "\n",
    "        unique, counts = np.unique(top_landcover, return_counts=True)\n",
    "\n",
    "        indexs = []\n",
    "\n",
    "        for key in nb_per_class.keys():\n",
    "\n",
    "            if max_per_class[key] < max_per_class[key] and key in unique:\n",
    "\n",
    "                print('key : ' + str(key))\n",
    "\n",
    "                index_key = np.where(top_landcover == key)[0]\n",
    "\n",
    "                if len(indexs) == 0 :\n",
    "                    indexs = index_key\n",
    "                else :\n",
    "                    indexs = np.append(indexs, index_key)\n",
    "\n",
    "                nb_per_class[key] += len(index_key)\n",
    "\n",
    "        if len(indexs) > 0 :\n",
    "            indexs = np.sort(np.array(indexs)).astype(int)\n",
    "\n",
    "            top_landcover_batch = top_landcover[indexs]\n",
    "            images_batch = images[indexs, :, :, :]\n",
    "\n",
    "            top_landcover_submit.resize(top_landcover_submit.shape[0] + len(top_landcover_batch), axis=0)\n",
    "            top_landcover_submit[-len(top_landcover_batch):] = top_landcover_batch[:]\n",
    "\n",
    "            s2_submit.resize(s2_submit.shape[0] + len(top_landcover_batch), axis=0)\n",
    "            s2_submit[-len(top_landcover_batch):, ::] = images_batch\n",
    "\n",
    "f.close()  \n",
    "                "
   ]
  },
  {
   "cell_type": "code",
   "execution_count": null,
   "metadata": {},
   "outputs": [],
   "source": []
  }
 ],
 "metadata": {
  "kernelspec": {
   "display_name": "Python 3",
   "language": "python",
   "name": "python3"
  },
  "language_info": {
   "codemirror_mode": {
    "name": "ipython",
    "version": 3
   },
   "file_extension": ".py",
   "mimetype": "text/x-python",
   "name": "python",
   "nbconvert_exporter": "python",
   "pygments_lexer": "ipython3",
   "version": "3.5.2"
  },
  "widgets": {
   "state": {},
   "version": "1.1.2"
  }
 },
 "nbformat": 4,
 "nbformat_minor": 2
}
