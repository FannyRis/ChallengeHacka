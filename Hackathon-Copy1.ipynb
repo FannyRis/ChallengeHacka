{
 "cells": [
  {
   "cell_type": "markdown",
   "metadata": {},
   "source": [
    "# Hackathon\n",
    "\n",
    "Some utilities"
   ]
  },
  {
   "cell_type": "markdown",
   "metadata": {},
   "source": [
    "## Import Utils"
   ]
  },
  {
   "cell_type": "code",
   "execution_count": 1,
   "metadata": {},
   "outputs": [
    {
     "name": "stdout",
     "output_type": "stream",
     "text": [
      "Collecting keras\n",
      "  Downloading Keras-2.1.5-py2.py3-none-any.whl (334kB)\n",
      "\u001b[K    100% |################################| 337kB 3.1MB/s ta 0:00:01\n",
      "\u001b[?25hRequirement already satisfied: six>=1.9.0 in /usr/local/lib/python3.5/dist-packages (from keras)\n",
      "Requirement already satisfied: scipy>=0.14 in /usr/local/lib/python3.5/dist-packages (from keras)\n",
      "Requirement already satisfied: numpy>=1.9.1 in /usr/local/lib/python3.5/dist-packages (from keras)\n",
      "Collecting pyyaml (from keras)\n",
      "  Downloading PyYAML-3.12.tar.gz (253kB)\n",
      "\u001b[K    100% |################################| 256kB 3.8MB/s eta 0:00:01\n",
      "\u001b[?25hBuilding wheels for collected packages: pyyaml\n",
      "  Running setup.py bdist_wheel for pyyaml ... \u001b[?25ldone\n",
      "\u001b[?25h  Stored in directory: /root/.cache/pip/wheels/2c/f7/79/13f3a12cd723892437c0cfbde1230ab4d82947ff7b3839a4fc\n",
      "Successfully built pyyaml\n",
      "Installing collected packages: pyyaml, keras\n",
      "Successfully installed keras-2.1.5 pyyaml-3.12\n",
      "\u001b[33mYou are using pip version 9.0.1, however version 9.0.2 is available.\n",
      "You should consider upgrading via the 'pip install --upgrade pip' command.\u001b[0m\n",
      "Collecting tables\n",
      "  Downloading tables-3.4.2-3-cp35-cp35m-manylinux1_x86_64.whl (4.6MB)\n",
      "\u001b[K    100% |################################| 4.6MB 327kB/s eta 0:00:01\n",
      "\u001b[?25hCollecting numexpr>=2.5.2 (from tables)\n",
      "  Downloading numexpr-2.6.4-cp35-cp35m-manylinux1_x86_64.whl (389kB)\n",
      "\u001b[K    100% |################################| 399kB 3.7MB/s eta 0:00:01\n",
      "\u001b[?25hRequirement already satisfied: six>=1.9.0 in /usr/local/lib/python3.5/dist-packages (from tables)\n",
      "Requirement already satisfied: numpy>=1.8.0 in /usr/local/lib/python3.5/dist-packages (from tables)\n",
      "Installing collected packages: numexpr, tables\n",
      "Successfully installed numexpr-2.6.4 tables-3.4.2\n",
      "\u001b[33mYou are using pip version 9.0.1, however version 9.0.2 is available.\n",
      "You should consider upgrading via the 'pip install --upgrade pip' command.\u001b[0m\n"
     ]
    }
   ],
   "source": [
    "!pip install keras\n",
    "!pip install tables"
   ]
  },
  {
   "cell_type": "code",
   "execution_count": 6,
   "metadata": {},
   "outputs": [],
   "source": [
    "import keras\n",
    "from keras.metrics import top_k_categorical_accuracy\n",
    "import h5py as h5\n",
    "import numpy as np\n",
    "import pandas as pd\n",
    "import tables\n",
    "import multiprocessing\n",
    "\n",
    "PATH_DATA = '/notebooks/data/equi_Groupe6.h5'\n",
    "PATH_PREDICT_WITHOUT_GT = '/notebooks/data/pred_students/pred_from_half/pred_eighties_from_half_1_without_gt.h5'\n",
    "PATH_SUBMIT = '/notebooks/ChallengeHacka/pred_eighties_from_half_1_gr6.csv'\n",
    "# PATH_PREDICT_WITH_GT = '/pred_teachers/pred_eighties_from_half_1.h5'"
   ]
  },
  {
   "cell_type": "code",
   "execution_count": 7,
   "metadata": {},
   "outputs": [
    {
     "name": "stdout",
     "output_type": "stream",
     "text": [
      "The autoreload extension is already loaded. To reload it, use:\n",
      "  %reload_ext autoreload\n"
     ]
    }
   ],
   "source": [
    "BATCH_SIZE = 32\n",
    "from keras.models import Sequential\n",
    "from keras.layers import Dense, Flatten, Conv2D, BatchNormalization, Activation, MaxPooling2D, Dropout\n",
    "import keras.layers.normalization \n",
    "from keras.callbacks import Callback\n",
    "%load_ext autoreload\n",
    "%autoreload 2"
   ]
  },
  {
   "cell_type": "code",
   "execution_count": 8,
   "metadata": {},
   "outputs": [],
   "source": [
    "def get_idxs(h5_path):\n",
    "    f = h5.File(h5_path)\n",
    "    return range(len(f['S2']))\n",
    "\n",
    "def shuffle_idx(sample_idxs):\n",
    "    return list(np.random.permutation(sample_idxs))\n",
    "\n",
    "def split_train_val(sample_idxs, proportion):\n",
    "    n_samples = len(sample_idxs)\n",
    "    return sample_idxs[:int((1.-proportion)*n_samples)], sample_idxs[int((1.-proportion)*n_samples):]\n",
    "\n",
    "def get_batch_count(idxs, batch_size):\n",
    "    batch_count = int(len(idxs)//batch_size)\n",
    "    remained_samples = len(idxs)%batch_size\n",
    "    if remained_samples > 0:\n",
    "        batch_count += 1\n",
    "\n",
    "    return batch_count"
   ]
  },
  {
   "cell_type": "code",
   "execution_count": 9,
   "metadata": {},
   "outputs": [],
   "source": [
    "def generator(h5_path, batch_size, idxs):\n",
    "    f = h5.File(h5_path, 'r')\n",
    "    while True : \n",
    "        idxs = shuffle_idx(idxs)\n",
    "        batch_count = get_batch_count(idxs, batch_size)\n",
    "        for b in range(batch_count):\n",
    "            batch_idx = idxs[b*batch_size]\n",
    "            X = f['S2'][batch_idx:batch_idx+batch_size, :,:,:]\n",
    "            Y = f['TOP_LANDCOVER'][batch_idx:batch_idx+batch_size, :]\n",
    "            yield np.array(X), keras.utils.np_utils.to_categorical(np.array(Y), 23)"
   ]
  },
  {
   "cell_type": "code",
   "execution_count": 10,
   "metadata": {},
   "outputs": [
    {
     "name": "stdout",
     "output_type": "stream",
     "text": [
      "53606\n"
     ]
    }
   ],
   "source": [
    "idxs = get_idxs(PATH_DATA)\n",
    "shuffled_idxs = shuffle_idx(idxs)\n",
    "train_idxs, val_idxs = split_train_val(shuffled_idxs, 0.2)\n",
    "\n",
    "print(len(idxs))"
   ]
  },
  {
   "cell_type": "code",
   "execution_count": 11,
   "metadata": {},
   "outputs": [],
   "source": [
    "train_gen = generator(PATH_DATA, BATCH_SIZE, train_idxs)\n",
    "train_batch_count = get_batch_count(train_idxs, BATCH_SIZE)\n",
    "\n",
    "val_gen = generator(PATH_DATA, BATCH_SIZE, val_idxs)\n",
    "val_batch_count = get_batch_count(val_idxs, BATCH_SIZE)"
   ]
  },
  {
   "cell_type": "code",
   "execution_count": 12,
   "metadata": {},
   "outputs": [
    {
     "name": "stdout",
     "output_type": "stream",
     "text": [
      "1341 336\n"
     ]
    }
   ],
   "source": [
    "print(train_batch_count, val_batch_count)"
   ]
  },
  {
   "cell_type": "code",
   "execution_count": 13,
   "metadata": {},
   "outputs": [],
   "source": [
    "label = h5.File(PATH_DATA)['TOP_LANDCOVER']\n",
    "images = h5.File(PATH_DATA)['S2']"
   ]
  },
  {
   "cell_type": "code",
   "execution_count": 14,
   "metadata": {},
   "outputs": [],
   "source": [
    "def top_3_accuracy(y_true, y_pred):\n",
    "    return top_k_categorical_accuracy(y_true, y_pred, k=3)\n",
    "\n",
    "def top_5_accuracy(y_true, y_pred):\n",
    "    return top_k_categorical_accuracy(y_true, y_pred, k=5)"
   ]
  },
  {
   "cell_type": "markdown",
   "metadata": {},
   "source": [
    "# Instanciation du model"
   ]
  },
  {
   "cell_type": "code",
   "execution_count": 15,
   "metadata": {},
   "outputs": [],
   "source": [
    "input_shape = (16,16,4)\n",
    "\n",
    "dropout_rate=0.5\n",
    "\n",
    "model = Sequential()\n",
    "\n",
    "model.add(Conv2D(32, (3,3), padding='same', activation='relu', input_shape=input_shape))\n",
    "model.add(BatchNormalization())\n",
    "model.add(Conv2D(32, (3, 3), padding='same', activation='relu'))\n",
    "model.add(BatchNormalization())\n",
    "model.add(MaxPooling2D(pool_size=(2, 2)))\n",
    "\n",
    "model.add(Dropout(0.5))\n",
    "model.add(Flatten())\n",
    "model.add(BatchNormalization())\n",
    "model.add(Dense(128, activation='relu'))\n",
    "model.add(Dropout(0.5))\n",
    "model.add(Dense(23, activation='softmax'))"
   ]
  },
  {
   "cell_type": "markdown",
   "metadata": {},
   "source": [
    "# Fit"
   ]
  },
  {
   "cell_type": "code",
   "execution_count": 16,
   "metadata": {},
   "outputs": [
    {
     "name": "stderr",
     "output_type": "stream",
     "text": [
      "/usr/local/lib/python3.5/dist-packages/ipykernel_launcher.py:8: UserWarning: The semantics of the Keras 2 argument `steps_per_epoch` is not the same as the Keras 1 argument `samples_per_epoch`. `steps_per_epoch` is the number of batches to draw from the generator at each epoch. Basically steps_per_epoch = samples_per_epoch/batch_size. Similarly `nb_val_samples`->`validation_steps` and `val_samples`->`steps` arguments have changed. Update your method calls accordingly.\n",
      "  \n",
      "/usr/local/lib/python3.5/dist-packages/ipykernel_launcher.py:8: UserWarning: Update your `fit_generator` call to the Keras 2 API: `fit_generator(<generator..., epochs=20, validation_steps=1000, verbose=1, steps_per_epoch=1341, validation_data=<generator...)`\n",
      "  \n"
     ]
    },
    {
     "name": "stdout",
     "output_type": "stream",
     "text": [
      "WARNING:tensorflow:Variable *= will be deprecated. Use variable.assign_mul if you want assignment to the variable value or 'x = x * y' if you want a new python Tensor object.\n",
      "Epoch 1/20\n",
      "1341/1341 [==============================] - 55s 41ms/step - loss: 3.4730 - acc: 0.0828 - top_3_accuracy: 0.2324 - top_5_accuracy: 0.3712 - val_loss: 2.6932 - val_acc: 0.1384 - val_top_3_accuracy: 0.3205 - val_top_5_accuracy: 0.4523\n",
      "Epoch 2/20\n",
      "1341/1341 [==============================] - 36s 27ms/step - loss: 2.9831 - acc: 0.1130 - top_3_accuracy: 0.2960 - top_5_accuracy: 0.4563 - val_loss: 2.7995 - val_acc: 0.0877 - val_top_3_accuracy: 0.2485 - val_top_5_accuracy: 0.4009\n",
      "Epoch 3/20\n",
      "1341/1341 [==============================] - 36s 27ms/step - loss: 2.6710 - acc: 0.1535 - top_3_accuracy: 0.3733 - top_5_accuracy: 0.5409 - val_loss: 2.8503 - val_acc: 0.0917 - val_top_3_accuracy: 0.2744 - val_top_5_accuracy: 0.4037\n",
      "Epoch 4/20\n",
      "1341/1341 [==============================] - 36s 27ms/step - loss: 2.4241 - acc: 0.2026 - top_3_accuracy: 0.4537 - top_5_accuracy: 0.6337 - val_loss: 3.1970 - val_acc: 0.0660 - val_top_3_accuracy: 0.1955 - val_top_5_accuracy: 0.3212\n",
      "Epoch 5/20\n",
      "1341/1341 [==============================] - 36s 27ms/step - loss: 2.2392 - acc: 0.2618 - top_3_accuracy: 0.5279 - top_5_accuracy: 0.7016 - val_loss: 3.1398 - val_acc: 0.0768 - val_top_3_accuracy: 0.2361 - val_top_5_accuracy: 0.3872\n",
      "Epoch 6/20\n",
      "1341/1341 [==============================] - 36s 27ms/step - loss: 2.1357 - acc: 0.2873 - top_3_accuracy: 0.5691 - top_5_accuracy: 0.7450 - val_loss: 3.5625 - val_acc: 0.0630 - val_top_3_accuracy: 0.2041 - val_top_5_accuracy: 0.3478\n",
      "Epoch 7/20\n",
      "1341/1341 [==============================] - 36s 27ms/step - loss: 2.0305 - acc: 0.3174 - top_3_accuracy: 0.6112 - top_5_accuracy: 0.7805 - val_loss: 3.8997 - val_acc: 0.0849 - val_top_3_accuracy: 0.2164 - val_top_5_accuracy: 0.3538\n",
      "Epoch 8/20\n",
      "1341/1341 [==============================] - 36s 27ms/step - loss: 1.9441 - acc: 0.3411 - top_3_accuracy: 0.6408 - top_5_accuracy: 0.8079 - val_loss: 3.9393 - val_acc: 0.0828 - val_top_3_accuracy: 0.2171 - val_top_5_accuracy: 0.3755\n",
      "Epoch 9/20\n",
      "1341/1341 [==============================] - 36s 27ms/step - loss: 1.8817 - acc: 0.3663 - top_3_accuracy: 0.6595 - top_5_accuracy: 0.8186 - val_loss: 4.5479 - val_acc: 0.0500 - val_top_3_accuracy: 0.1436 - val_top_5_accuracy: 0.2669\n",
      "Epoch 10/20\n",
      "1341/1341 [==============================] - 36s 27ms/step - loss: 1.8678 - acc: 0.3607 - top_3_accuracy: 0.6647 - top_5_accuracy: 0.8306 - val_loss: 4.9405 - val_acc: 0.0665 - val_top_3_accuracy: 0.1553 - val_top_5_accuracy: 0.2889\n",
      "Epoch 11/20\n",
      "1341/1341 [==============================] - 36s 27ms/step - loss: 1.8207 - acc: 0.3773 - top_3_accuracy: 0.6840 - top_5_accuracy: 0.8435 - val_loss: 4.3720 - val_acc: 0.0593 - val_top_3_accuracy: 0.1732 - val_top_5_accuracy: 0.3074\n",
      "Epoch 12/20\n",
      "1341/1341 [==============================] - 36s 27ms/step - loss: 1.7791 - acc: 0.3895 - top_3_accuracy: 0.6910 - top_5_accuracy: 0.8515 - val_loss: 4.5330 - val_acc: 0.0498 - val_top_3_accuracy: 0.1363 - val_top_5_accuracy: 0.2510\n",
      "Epoch 13/20\n",
      "1341/1341 [==============================] - 37s 27ms/step - loss: 1.7507 - acc: 0.3926 - top_3_accuracy: 0.7009 - top_5_accuracy: 0.8593 - val_loss: 5.0221 - val_acc: 0.0483 - val_top_3_accuracy: 0.1478 - val_top_5_accuracy: 0.2373\n",
      "Epoch 14/20\n",
      "1341/1341 [==============================] - 37s 27ms/step - loss: 1.7002 - acc: 0.4061 - top_3_accuracy: 0.7202 - top_5_accuracy: 0.8707 - val_loss: 4.5127 - val_acc: 0.0456 - val_top_3_accuracy: 0.1451 - val_top_5_accuracy: 0.2837\n",
      "Epoch 15/20\n",
      "1341/1341 [==============================] - 36s 27ms/step - loss: 1.6664 - acc: 0.4178 - top_3_accuracy: 0.7337 - top_5_accuracy: 0.8746 - val_loss: 5.2955 - val_acc: 0.0548 - val_top_3_accuracy: 0.1434 - val_top_5_accuracy: 0.2414\n",
      "Epoch 16/20\n",
      "1341/1341 [==============================] - 36s 27ms/step - loss: 1.6710 - acc: 0.4235 - top_3_accuracy: 0.7320 - top_5_accuracy: 0.8734 - val_loss: 5.2728 - val_acc: 0.0548 - val_top_3_accuracy: 0.1450 - val_top_5_accuracy: 0.2378\n",
      "Epoch 17/20\n",
      "1341/1341 [==============================] - 36s 27ms/step - loss: 1.6547 - acc: 0.4191 - top_3_accuracy: 0.7330 - top_5_accuracy: 0.8822 - val_loss: 4.5694 - val_acc: 0.0600 - val_top_3_accuracy: 0.1582 - val_top_5_accuracy: 0.2548\n",
      "Epoch 18/20\n",
      "1341/1341 [==============================] - 36s 27ms/step - loss: 1.6410 - acc: 0.4311 - top_3_accuracy: 0.7383 - top_5_accuracy: 0.8816 - val_loss: 4.5182 - val_acc: 0.0869 - val_top_3_accuracy: 0.2327 - val_top_5_accuracy: 0.3663\n",
      "Epoch 19/20\n",
      "1341/1341 [==============================] - 36s 27ms/step - loss: 1.6507 - acc: 0.4199 - top_3_accuracy: 0.7324 - top_5_accuracy: 0.8795 - val_loss: 4.5415 - val_acc: 0.0691 - val_top_3_accuracy: 0.1882 - val_top_5_accuracy: 0.3342\n",
      "Epoch 20/20\n",
      "1341/1341 [==============================] - 36s 27ms/step - loss: 1.5979 - acc: 0.4476 - top_3_accuracy: 0.7538 - top_5_accuracy: 0.8927 - val_loss: 5.2355 - val_acc: 0.0506 - val_top_3_accuracy: 0.1444 - val_top_5_accuracy: 0.2325\n"
     ]
    }
   ],
   "source": [
    "# optim = keras.optimizers.Adam(lr=0.001)\n",
    "optim = keras.optimizers.rmsprop(lr=0.0001, decay=1e-6)\n",
    "\n",
    "model.compile(optimizer=optim,\n",
    "              loss='categorical_crossentropy',\n",
    "              metrics=['accuracy', top_3_accuracy, top_5_accuracy ])\n",
    "\n",
    "history = model.fit_generator(train_gen, steps_per_epoch=train_batch_count, epochs=20, verbose=1, validation_data=val_gen, nb_val_samples=1000)"
   ]
  },
  {
   "cell_type": "code",
   "execution_count": null,
   "metadata": {},
   "outputs": [],
   "source": []
  },
  {
   "cell_type": "markdown",
   "metadata": {},
   "source": [
    "## Prediction routines\n",
    "\n",
    "In order to submit a result here are some gits"
   ]
  },
  {
   "cell_type": "code",
   "execution_count": 18,
   "metadata": {},
   "outputs": [],
   "source": [
    "import os \n",
    "def prediction_generator(h5_path, batch_size, idxs):\n",
    "    f = h5.File(h5_path, 'r')\n",
    "\n",
    "    batch_count = get_batch_count(idxs, batch_size)\n",
    "    \n",
    "    for b in range(batch_count):\n",
    "        batch_idxs = idxs[b*batch_size:(b+1)*batch_size]\n",
    "        batch_idxs = sorted(batch_idxs)\n",
    "        X = f['S2'][batch_idxs, :,:,:]\n",
    "        yield np.array(X)\n",
    "\n",
    "# def build_h5_pred_file(pred, h5_output_path):\n",
    "#     if os.path.exists(h5_output_path):\n",
    "#         os.remove(h5_output_path)\n",
    "#     f = h5.File(h5_output_path, 'w')\n",
    "#     top_landcover_submit = f.create_dataset(\"TOP_LANDCOVER\", (len(pred), 1), maxshape=(None, 1))equi\n",
    "#     top_landcover_submit[:, 0] = pred\n",
    "#     f.close()\n",
    "#     4\n",
    "#     return 1"
   ]
  },
  {
   "cell_type": "code",
   "execution_count": 60,
   "metadata": {},
   "outputs": [
    {
     "name": "stdout",
     "output_type": "stream",
     "text": [
      "336/336 [==============================] - 4s 13ms/step\n",
      "10752\n"
     ]
    }
   ],
   "source": [
    "prediction = model.predict_generator(val_gen, steps=val_batch_count, verbose=1)\n",
    "print(len(prediction))\n",
    "#to dataframe to csv index = ID colonne TOP_LANDCOVER"
   ]
  },
  {
   "cell_type": "code",
   "execution_count": null,
   "metadata": {},
   "outputs": [
    {
     "name": "stdout",
     "output_type": "stream",
     "text": [
      "241700\n",
      " 128/7554 [..............................] - ETA: 51s"
     ]
    }
   ],
   "source": [
    "pred_idx = get_idxs(PATH_PREDICT_WITHOUT_GT)\n",
    "print(len(pred_idx))\n",
    "pred_gen = prediction_generator(PATH_PREDICT_WITHOUT_GT, BATCH_SIZE, pred_idx)\n",
    "prediction = model.predict_generator(pred_gen, steps=get_batch_count(pred_idx, BATCH_SIZE), verbose=1)\n",
    "print(len(prediction))\n",
    "# build_h5_pred_file(np.argmax(prediction, axis = 1), PATH_SUBMIT)\n",
    "panda_prediction = pd.DataFrame(np.argmax(prediction, axis = 1))\n",
    "panda_prediction.columns = ['TOP_LANDCOVER']\n",
    "panda_prediction.head()\n",
    "# panda_prediction.describe()\n",
    "panda_prediction.to_csv(PATH_SUBMIT, index_label = 'ID')"
   ]
  },
  {
   "cell_type": "markdown",
   "metadata": {},
   "source": [
    "## Some ideas for monitoring"
   ]
  },
  {
   "cell_type": "code",
   "execution_count": null,
   "metadata": {},
   "outputs": [],
   "source": [
    "def gt_generator(h5_path, batch_size, idxs):\n",
    "    f = h5.File(h5_path, 'r')\n",
    "\n",
    "    batch_count = get_batch_count(idxs, batch_size)\n",
    "    \n",
    "    for b in range(batch_count):\n",
    "        batch_idxs = idxs[b*batch_size:(b+1)*batch_size]\n",
    "        batch_idxs = sorted(batch_idxs)\n",
    "        Y = f['TOP_LANDCOVER'][batch_idxs, :]\n",
    "        yield keras.utils.np_utils.to_categorical(np.array(Y), 23)\n",
    "\n",
    "gt_gen = gt_generator(PATH_PREDICT_WITH_GT, BATCH_SIZE, pred_idx)\n",
    "gt = []\n",
    "for elem in gt_gen:\n",
    "    gt.append(elem)\n",
    "gt = np.vstack(gt)"
   ]
  },
  {
   "cell_type": "code",
   "execution_count": null,
   "metadata": {},
   "outputs": [],
   "source": [
    "import matplotlib.pyplot as plt\n",
    "import itertools\n",
    "def plot_confusion_matrix(cm, classes,\n",
    "                          normalize=False,\n",
    "                          title='Confusion matrix',\n",
    "                          cmap=plt.cm.Blues):\n",
    "    \"\"\"\n",
    "    This function prints and plots the confusion matrix.\n",
    "    Normalization can be applied by setting `normalize=True`.\n",
    "    \"\"\"\n",
    "    if normalize:\n",
    "        cm = cm.astype('float') / cm.sum(axis=1)[:, np.newaxis]\n",
    "        print(\"Normalized confusion matrix\")\n",
    "    else:\n",
    "        print('Confusion matrix, without normalization')\n",
    "\n",
    "    plt.imshow(cm, interpolation='nearest', cmap=cmap)\n",
    "    plt.title(title)\n",
    "    plt.colorbar()\n",
    "    tick_marks = np.arange(len(classes))\n",
    "    plt.xticks(tick_marks, classes, rotation=45)\n",
    "    plt.yticks(tick_marks, classes)\n",
    "\n",
    "    fmt = '.2f' if normalize else 'd'\n",
    "    thresh = cm.max() / 2.\n",
    "    for i in range(cm.shape[0]):\n",
    "        for j in range(cm.shape[1]):\n",
    "            plt.text(j, i, format(cm[i, j], fmt),\n",
    "                     horizontalalignment=\"center\",\n",
    "                     color=\"white\" if cm[i, j] > thresh else \"black\",fontsize=7)\n",
    "\n",
    "    plt.tight_layout()\n",
    "    plt.ylabel('True label')\n",
    "    plt.xlabel('Predicted label')"
   ]
  },
  {
   "cell_type": "code",
   "execution_count": null,
   "metadata": {},
   "outputs": [],
   "source": [
    "def clean_confusion_matrix(confusion_matrix, classes):\n",
    "    real_classes = []\n",
    "    for c in range(len(classes)):\n",
    "        if np.sum(confusion_matrix[:,c])+np.sum(confusion_matrix[c, :]) != 0:\n",
    "            real_classes.append(c)\n",
    "    real_confusion_matrix = np.empty((len(real_classes), len(real_classes)))  \n",
    "    for c_index in range(len(real_classes)):\n",
    "        real_confusion_matrix[c_index,:] = confusion_matrix[real_classes[c_index], real_classes]\n",
    "    return real_confusion_matrix, real_classes"
   ]
  },
  {
   "cell_type": "code",
   "execution_count": null,
   "metadata": {
    "scrolled": false
   },
   "outputs": [],
   "source": [
    "%matplotlib notebook\n",
    "from sklearn.metrics import confusion_matrix\n",
    "y_true = np.argmax(gt, axis=1)\n",
    "y_pred = np.argmax(prediction, axis = 1)\n",
    "\n",
    "real_cnf_matrix, real_classes = clean_confusion_matrix(confusion_matrix(y_true, y_pred, labels= range(23)), range(23))\n",
    "plot_confusion_matrix(real_cnf_matrix, classes = real_classes, normalize=True)"
   ]
  }
 ],
 "metadata": {
  "kernelspec": {
   "display_name": "Python 3",
   "language": "python",
   "name": "python3"
  },
  "language_info": {
   "codemirror_mode": {
    "name": "ipython",
    "version": 3
   },
   "file_extension": ".py",
   "mimetype": "text/x-python",
   "name": "python",
   "nbconvert_exporter": "python",
   "pygments_lexer": "ipython3",
   "version": "3.5.2"
  },
  "widgets": {
   "state": {},
   "version": "1.1.2"
  }
 },
 "nbformat": 4,
 "nbformat_minor": 2
}
