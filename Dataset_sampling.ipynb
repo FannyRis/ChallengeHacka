{
 "cells": [
  {
   "cell_type": "markdown",
   "metadata": {},
   "source": [
    "# Hackathon\n",
    "\n",
    "Some utilities"
   ]
  },
  {
   "cell_type": "markdown",
   "metadata": {},
   "source": [
    "## Import Utils"
   ]
  },
  {
   "cell_type": "code",
   "execution_count": 3,
   "metadata": {},
   "outputs": [
    {
     "name": "stderr",
     "output_type": "stream",
     "text": [
      "/usr/local/lib/python3.5/dist-packages/h5py/__init__.py:36: FutureWarning: Conversion of the second argument of issubdtype from `float` to `np.floating` is deprecated. In future, it will be treated as `np.float64 == np.dtype(float).type`.\n",
      "  from ._conv import register_converters as _register_converters\n",
      "Using TensorFlow backend.\n"
     ]
    }
   ],
   "source": [
    "import keras\n",
    "from keras.metrics import top_k_categorical_accuracy\n",
    "import h5py as h5\n",
    "import numpy as np\n",
    "import pandas as pd\n",
    "import matplotlib.pyplot as plt\n",
    "\n",
    "PATH_DATA = '/notebooks/data/full_7classes.h5'\n",
    "OUT_PATH = '/notebooks/data/big_sampled_7classes.h5'"
   ]
  },
  {
   "cell_type": "code",
   "execution_count": 4,
   "metadata": {},
   "outputs": [],
   "source": [
    "def get_idxs(h5_path):\n",
    "    f = h5.File(h5_path)\n",
    "    return range(len(f['S2']))\n",
    "\n",
    "def shuffle_idx(sample_idxs):\n",
    "    return list(np.random.permutation(sample_idxs))\n",
    "\n",
    "def split_train_val(sample_idxs, proportion):\n",
    "    n_samples = len(sample_idxs)\n",
    "    return sample_idxs[:int((1.-proportion)*n_samples)], sample_idxs[int((1.-proportion)*n_samples):]\n",
    "\n",
    "def get_batch_count(idxs, batch_size):\n",
    "    batch_count = int(len(idxs)//batch_size)\n",
    "    remained_samples = len(idxs)%batch_size\n",
    "    if remained_samples > 0:\n",
    "        batch_count += 1\n",
    "    return batch_count"
   ]
  },
  {
   "cell_type": "code",
   "execution_count": 5,
   "metadata": {},
   "outputs": [
    {
     "name": "stdout",
     "output_type": "stream",
     "text": [
      "15880245\n"
     ]
    }
   ],
   "source": [
    "idxs = get_idxs(PATH_DATA)\n",
    "shuffled_idxs = shuffle_idx(idxs)\n",
    "print(len(idxs))"
   ]
  },
  {
   "cell_type": "code",
   "execution_count": 6,
   "metadata": {},
   "outputs": [],
   "source": [
    "label = h5.File(PATH_DATA)['TOP_LANDCOVER']\n",
    "images = h5.File(PATH_DATA)['S2']"
   ]
  },
  {
   "cell_type": "code",
   "execution_count": 7,
   "metadata": {},
   "outputs": [
    {
     "name": "stdout",
     "output_type": "stream",
     "text": [
      "[ 1.  2.  3.  5. 10. 12. 19.]\n",
      "[3826720 1250142 2315509 2167213 1112378 4053996 1154287]\n"
     ]
    },
    {
     "data": {
      "text/plain": [
       "<Container object of 7 artists>"
      ]
     },
     "execution_count": 7,
     "metadata": {},
     "output_type": "execute_result"
    },
    {
     "data": {
      "image/png": "[encoded data removed]",
      "text/plain": [
       "<matplotlib.figure.Figure at 0x7f638859e780>"
      ]
     },
     "metadata": {},
     "output_type": "display_data"
    }
   ],
   "source": [
    "unique, counts = np.unique(label, return_counts=True)\n",
    "print(unique)\n",
    "print(counts)\n",
    "\n",
    "plt.bar(unique, counts)"
   ]
  },
  {
   "cell_type": "code",
   "execution_count": 8,
   "metadata": {},
   "outputs": [
    {
     "name": "stdout",
     "output_type": "stream",
     "text": [
      "49625\n"
     ]
    }
   ],
   "source": [
    "batch_size = 64\n",
    "nb_samples = 15880245\n",
    "batch_count = int(nb_samples/5/batch_size)\n",
    "\n",
    "print(batch_count)"
   ]
  },
  {
   "cell_type": "code",
   "execution_count": null,
   "metadata": {},
   "outputs": [
    {
     "name": "stdout",
     "output_type": "stream",
     "text": [
      "b : 0\n",
      "b : 1000\n"
     ]
    }
   ],
   "source": [
    "import os\n",
    "\n",
    "if os.path.exists(OUT_PATH):\n",
    "        os.remove(OUT_PATH)\n",
    "        \n",
    "f = h5.File(OUT_PATH, 'w')\n",
    "top_landcover_submit = f.create_dataset(\"TOP_LANDCOVER\", [0, 1], maxshape=(None, 1))\n",
    "s2_submit = f.create_dataset(\"S2\", [0, 16,16,4], maxshape=(None, 16,16,4))\n",
    "\n",
    "for b in range(batch_count):\n",
    "    \n",
    "    if(b%1000 == 0):\n",
    "        print('b : ' + str(b))\n",
    "    top_landcover_batch = h5.File(PATH_DATA)['TOP_LANDCOVER'][shuffled_idxs[b]:shuffled_idxs[b]+batch_size -1]\n",
    "    top_landcover_batch = top_landcover_batch[0:].astype(int)\n",
    "    images_batch = h5.File(PATH_DATA)['S2'][shuffled_idxs[b]:shuffled_idxs[b]+batch_size -1, :, :, :]\n",
    "\n",
    "    top_landcover_submit.resize(top_landcover_submit.shape[0] + len(top_landcover_batch), axis=0)\n",
    "    top_landcover_submit[-len(top_landcover_batch):] = top_landcover_batch[:]\n",
    "\n",
    "    s2_submit.resize(s2_submit.shape[0] + len(top_landcover_batch), axis=0)\n",
    "    s2_submit[-len(top_landcover_batch):, ::] = images_batch\n",
    "\n",
    "f.close()  \n",
    "                "
   ]
  },
  {
   "cell_type": "code",
   "execution_count": null,
   "metadata": {},
   "outputs": [],
   "source": []
  }
 ],
 "metadata": {
  "kernelspec": {
   "display_name": "Python 3",
   "language": "python",
   "name": "python3"
  },
  "language_info": {
   "codemirror_mode": {
    "name": "ipython",
    "version": 3
   },
   "file_extension": ".py",
   "mimetype": "text/x-python",
   "name": "python",
   "nbconvert_exporter": "python",
   "pygments_lexer": "ipython3",
   "version": "3.5.2"
  },
  "widgets": {
   "state": {},
   "version": "1.1.2"
  }
 },
 "nbformat": 4,
 "nbformat_minor": 2
}
